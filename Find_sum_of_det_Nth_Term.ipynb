{
 "cells": [
  {
   "cell_type": "markdown",
   "id": "06a2fb72",
   "metadata": {},
   "source": [
    "### Find the Nth term of sum of determinant in the given matrix "
   ]
  },
  {
   "cell_type": "code",
   "execution_count": 63,
   "id": "9f74a439",
   "metadata": {},
   "outputs": [],
   "source": [
    "import numpy as np"
   ]
  },
  {
   "cell_type": "code",
   "execution_count": 67,
   "id": "39b6e7de",
   "metadata": {},
   "outputs": [],
   "source": [
    "def find_det(matrix):\n",
    "    \n",
    "    (rows, cols) = matrix.shape\n",
    "    \n",
    "    if not rows == cols:\n",
    "        print(\"False: this matrix is not 'square matrix' \")\n",
    "        return False\n",
    "    \n",
    "    if rows == 1 and cols == 1:\n",
    "        return matrix[0,0]\n",
    "    \n",
    "    else:\n",
    "        sum = 0\n",
    "        for i in range(1):\n",
    "            for j in range(cols):\n",
    "                reduced_matrix = matrix.copy()\n",
    "                reduced_matrix = np.delete(reduced_matrix, i, 0) #Remove row i\n",
    "                reduced_matrix = np.delete(reduced_matrix, j, 1) #Remove column j\n",
    "                print(f\"result of {j+1} term is {(((-1) ** ((i+1)+(j+1))) * matrix[i,j] * find_det_next(reduced_matrix))}\") #To check for the result of each term\n",
    "                sum += (((-1) ** ((i+1)+(j+1))) * matrix[i,j] * find_det_next(reduced_matrix)) #This is the accumulative sum\n",
    "                print(f\"==> sum of {j+1} term is: {sum}\\n\")\n",
    "        return sum"
   ]
  },
  {
   "cell_type": "code",
   "execution_count": 68,
   "id": "2f9eeaab",
   "metadata": {},
   "outputs": [],
   "source": [
    "def find_det_next(matrix):\n",
    "    return np.linalg.det(matrix)"
   ]
  },
  {
   "cell_type": "code",
   "execution_count": 69,
   "id": "18d33774",
   "metadata": {},
   "outputs": [],
   "source": [
    "#Get the Matrix\n",
    "A = np.array([\n",
    "    [2,3,1],\n",
    "    [4,2,3],\n",
    "    [4,1,2]\n",
    "])"
   ]
  },
  {
   "cell_type": "code",
   "execution_count": 70,
   "id": "fe8be4d2",
   "metadata": {},
   "outputs": [
    {
     "name": "stdout",
     "output_type": "stream",
     "text": [
      "result of 1 term is 2.0\n",
      "==> sum of 1 term is: 2.0\n",
      "\n",
      "result of 2 term is 12.0\n",
      "==> sum of 2 term is: 14.0\n",
      "\n",
      "result of 3 term is -4.0\n",
      "==> sum of 3 term is: 10.0\n",
      "\n"
     ]
    }
   ],
   "source": [
    "#Call the function\n",
    "sum_det = find_det(A)"
   ]
  },
  {
   "cell_type": "code",
   "execution_count": null,
   "id": "b2e7ebcb",
   "metadata": {},
   "outputs": [],
   "source": []
  }
 ],
 "metadata": {
  "kernelspec": {
   "display_name": "Python 3",
   "language": "python",
   "name": "python3"
  },
  "language_info": {
   "codemirror_mode": {
    "name": "ipython",
    "version": 3
   },
   "file_extension": ".py",
   "mimetype": "text/x-python",
   "name": "python",
   "nbconvert_exporter": "python",
   "pygments_lexer": "ipython3",
   "version": "3.8.8"
  }
 },
 "nbformat": 4,
 "nbformat_minor": 5
}
